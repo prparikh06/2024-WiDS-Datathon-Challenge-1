{
 "cells": [
  {
   "cell_type": "markdown",
   "id": "589386c0-0842-4ceb-a45d-906459293376",
   "metadata": {},
   "source": [
    "This is a practice Notebook file"
   ]
  },
  {
   "cell_type": "code",
   "execution_count": 1,
   "id": "3b10faa2-2c2f-4f05-9a36-eab854be961a",
   "metadata": {},
   "outputs": [],
   "source": [
    "# start off your script with any module you will be inputting. it's good practice\n",
    "from datetime import date, datetime # import the date and datetime objects from the datetime module\n"
   ]
  },
  {
   "cell_type": "code",
   "execution_count": 2,
   "id": "7de60c14-9c9b-479b-a29d-b18cf62f05c8",
   "metadata": {},
   "outputs": [],
   "source": [
    "\n",
    "def get_days():\n",
    "    # prompt the user to input birthday\n",
    "    bday = input('Please enter your birthday (yyyy-mm-dd):\\n')\n",
    "    \n",
    "    # the variable bday is a string. we need to convert it into a datetime object\n",
    "    date_format = '%Y-%m-%d'\n",
    "    bday_date = datetime.strptime(bday, date_format)\n",
    "    \n",
    "    # get today's date\n",
    "    today = datetime.today()\n",
    "\n",
    "    # get the number of days: today - birthday\n",
    "    result = today - bday_date\n",
    "    \n",
    "    # return the number of days\n",
    "    return result"
   ]
  },
  {
   "cell_type": "code",
   "execution_count": 3,
   "id": "4faa01ad-7fb6-4535-8154-6d11c9411e90",
   "metadata": {},
   "outputs": [
    {
     "name": "stdout",
     "output_type": "stream",
     "text": [
      "Hello! Please enter your name:\n",
      "priya\n",
      "\n",
      "Name entered: priya\n",
      "\n"
     ]
    }
   ],
   "source": [
    "name = input('Hello! Please enter your name:\\n')\n",
    "print('\\nName entered: '+ name + '\\n')"
   ]
  },
  {
   "cell_type": "code",
   "execution_count": 4,
   "id": "91139779-5dd4-4543-ba28-2bcb29d6cf8a",
   "metadata": {},
   "outputs": [
    {
     "name": "stdout",
     "output_type": "stream",
     "text": [
      "Please enter your birthday (yyyy-mm-dd):\n",
      "1999-05-02\n",
      "\n",
      "You are 9028 days, 12:23:26.713398 days old!\n",
      "\n"
     ]
    }
   ],
   "source": [
    "days = get_days()\n",
    "print('\\nYou are %s days old!\\n' % days)"
   ]
  },
  {
   "cell_type": "code",
   "execution_count": null,
   "id": "72e00642-4f3c-46a2-9006-8c8bd20b451a",
   "metadata": {},
   "outputs": [],
   "source": []
  },
  {
   "cell_type": "code",
   "execution_count": null,
   "id": "0405e002-710d-4594-87d7-54927b92aa37",
   "metadata": {},
   "outputs": [],
   "source": []
  },
  {
   "cell_type": "code",
   "execution_count": null,
   "id": "7241e18b-600e-4660-9958-54aaafb060df",
   "metadata": {},
   "outputs": [],
   "source": []
  },
  {
   "cell_type": "code",
   "execution_count": null,
   "id": "093de983-ca7a-4288-abcc-7a128f0e7b98",
   "metadata": {},
   "outputs": [],
   "source": []
  },
  {
   "cell_type": "code",
   "execution_count": null,
   "id": "0840c823-9c0f-4e56-bd6b-aedb8eeddf5c",
   "metadata": {},
   "outputs": [],
   "source": []
  },
  {
   "cell_type": "code",
   "execution_count": null,
   "id": "34e7e590-3e7a-4cb1-842c-f9b68b1abe48",
   "metadata": {},
   "outputs": [],
   "source": []
  }
 ],
 "metadata": {
  "kernelspec": {
   "display_name": "Python 3",
   "language": "python",
   "name": "python3"
  },
  "language_info": {
   "codemirror_mode": {
    "name": "ipython",
    "version": 3
   },
   "file_extension": ".py",
   "mimetype": "text/x-python",
   "name": "python",
   "nbconvert_exporter": "python",
   "pygments_lexer": "ipython3",
   "version": "3.8.8"
  }
 },
 "nbformat": 4,
 "nbformat_minor": 5
}
